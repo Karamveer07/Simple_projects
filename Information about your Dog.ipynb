{
 "cells": [
  {
   "cell_type": "code",
   "execution_count": 1,
   "metadata": {},
   "outputs": [],
   "source": [
    "class Dog:\n",
    "    species = 'mammal'\n",
    "    def __init__(self,breed,colour,name,age):\n",
    "        self.breed = breed\n",
    "        self.colour = colour\n",
    "        self.name = name\n",
    "        self.age = age\n",
    "        \n",
    "    def age_(self):\n",
    "        if self.age > 5:\n",
    "            print(\"Dog is Old!\")\n",
    "        else:\n",
    "            print(\"Dog is young!\")\n",
    "            \n",
    "    def spots(self):\n",
    "        if self.breed == \"Huskie\" or self.breed == \"Beegle\" or self.breed == \"Shepherd\":\n",
    "            print(f\"{self.name} has spots!\")\n",
    "        else:\n",
    "            print(f\"{self.name} has no spots!\")"
   ]
  },
  {
   "cell_type": "code",
   "execution_count": null,
   "metadata": {},
   "outputs": [],
   "source": []
  },
  {
   "cell_type": "code",
   "execution_count": null,
   "metadata": {},
   "outputs": [],
   "source": []
  },
  {
   "cell_type": "code",
   "execution_count": null,
   "metadata": {},
   "outputs": [],
   "source": []
  },
  {
   "cell_type": "code",
   "execution_count": null,
   "metadata": {},
   "outputs": [],
   "source": []
  }
 ],
 "metadata": {
  "kernelspec": {
   "display_name": "Python 3",
   "language": "python",
   "name": "python3"
  },
  "language_info": {
   "codemirror_mode": {
    "name": "ipython",
    "version": 3
   },
   "file_extension": ".py",
   "mimetype": "text/x-python",
   "name": "python",
   "nbconvert_exporter": "python",
   "pygments_lexer": "ipython3",
   "version": "3.8.5"
  }
 },
 "nbformat": 4,
 "nbformat_minor": 4
}

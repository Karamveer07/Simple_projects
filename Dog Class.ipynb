{
 "cells": [
  {
   "cell_type": "code",
   "execution_count": 73,
   "metadata": {},
   "outputs": [],
   "source": [
    "class Dog:\n",
    "    \n",
    "    #Class object attribute\n",
    "    species = 'mammal'\n",
    "    \n",
    "    def __init__(self,breed,colour,name,age):\n",
    "        \n",
    "        # Attributes of Dog class\n",
    "        self.breed = breed\n",
    "        self.colour = colour\n",
    "        self.name = name\n",
    "        self.age = age\n",
    "        \n",
    "        \n",
    "    # Method of Dog class    \n",
    "    def status(self):\n",
    "        if self.age > 5:\n",
    "            print(f\"{self.name} is an Oldie!\")\n",
    "        elif self.age > 2 and self.age <=5:\n",
    "            print(f\"{self.name} is young!\")\n",
    "        elif self.age <= 2:\n",
    "            print(f\"{self.name} is very young!\")\n",
    "        else:\n",
    "            pass\n",
    "    \n",
    "    # Method of Dog class\n",
    "    def spots(self):\n",
    "        if self.breed == \"Huskie\" or self.breed == \"Beagle\" or self.breed == \"Shepherd\" or self.breed == \"Dalmatian\":\n",
    "            print(f\"{self.name} has spots!\")\n",
    "        else:\n",
    "            print(f\"{self.name} has no spots!\")\n",
    "            \n",
    "    def intro(self):\n",
    "        print(f\"{self.name} is a {self.breed} and its colour is {self.colour}\")\n",
    "        \n",
    "        if self.breed == \"Lab\":\n",
    "            print(f\"{self.name} is a funloving dog and loves to play\")\n",
    "        elif self.breed == \"Shepherd\" or self.breed == \"Huskie\":\n",
    "            print(f\"{self.name} is an obedient dog and very protective\")\n",
    "        elif self.breed == \"Beagle\":\n",
    "            print(f\"{self.name} is an active dog and loves to explore\")\n",
    "        else:\n",
    "            print(f\"Be aware from {self.name}, it can be aggresive one!\")\n",
    "        "
   ]
  },
  {
   "cell_type": "code",
   "execution_count": 74,
   "metadata": {},
   "outputs": [],
   "source": [
    "Sasha = Dog(\"Huskie\", \"Brown\", \"Sasha\", 7)  # instance of class is defined and variable is name of dog"
   ]
  },
  {
   "cell_type": "code",
   "execution_count": 75,
   "metadata": {},
   "outputs": [
    {
     "data": {
      "text/plain": [
       "'Sasha'"
      ]
     },
     "execution_count": 75,
     "metadata": {},
     "output_type": "execute_result"
    }
   ],
   "source": [
    "Sasha.name  # Calling a local attribute of Dog class"
   ]
  },
  {
   "cell_type": "code",
   "execution_count": 76,
   "metadata": {},
   "outputs": [
    {
     "data": {
      "text/plain": [
       "'mammal'"
      ]
     },
     "execution_count": 76,
     "metadata": {},
     "output_type": "execute_result"
    }
   ],
   "source": [
    "Sasha.species"
   ]
  },
  {
   "cell_type": "code",
   "execution_count": 77,
   "metadata": {},
   "outputs": [
    {
     "name": "stdout",
     "output_type": "stream",
     "text": [
      "Sasha is a Huskie and its colour is Brown\n",
      "Sasha is an obedient dog and very protective\n"
     ]
    }
   ],
   "source": [
    "Sasha.intro()"
   ]
  },
  {
   "cell_type": "code",
   "execution_count": 78,
   "metadata": {},
   "outputs": [
    {
     "name": "stdout",
     "output_type": "stream",
     "text": [
      "Sasha is an Oldie!\n"
     ]
    }
   ],
   "source": [
    "# Calling a method\n",
    "Sasha.status()"
   ]
  },
  {
   "cell_type": "code",
   "execution_count": 79,
   "metadata": {},
   "outputs": [
    {
     "name": "stdout",
     "output_type": "stream",
     "text": [
      "Sasha has spots!\n"
     ]
    }
   ],
   "source": [
    "Sasha.spots() #calling a method"
   ]
  },
  {
   "cell_type": "code",
   "execution_count": 80,
   "metadata": {},
   "outputs": [],
   "source": [
    "Hasel = Dog(\"Lab\",\"Black\",\"Hasel\",2)\n",
    "Tom = Dog(\"Shepherd\",\"Wheatish\",\"Tom\",3)\n",
    "Cherry = Dog(\"Beagle\",\"White\",\"Cherry\",5)"
   ]
  },
  {
   "cell_type": "code",
   "execution_count": 81,
   "metadata": {},
   "outputs": [
    {
     "name": "stdout",
     "output_type": "stream",
     "text": [
      "Hasel is a Lab and its colour is Black\n",
      "Hasel is a funloving dog and loves to play\n"
     ]
    }
   ],
   "source": [
    "Hasel.intro()"
   ]
  },
  {
   "cell_type": "code",
   "execution_count": 82,
   "metadata": {},
   "outputs": [
    {
     "name": "stdout",
     "output_type": "stream",
     "text": [
      "Tom is a Shepherd and its colour is Wheatish\n",
      "Tom is an obedient dog and very protective\n"
     ]
    }
   ],
   "source": [
    "Tom.intro()"
   ]
  },
  {
   "cell_type": "code",
   "execution_count": 83,
   "metadata": {},
   "outputs": [
    {
     "name": "stdout",
     "output_type": "stream",
     "text": [
      "Cherry is a Beagle and its colour is White\n",
      "Cherry is an active dog and loves to explore\n"
     ]
    }
   ],
   "source": [
    "Cherry.intro()"
   ]
  },
  {
   "cell_type": "code",
   "execution_count": 84,
   "metadata": {},
   "outputs": [
    {
     "name": "stdout",
     "output_type": "stream",
     "text": [
      "Hasel is very young!\n"
     ]
    }
   ],
   "source": [
    "Hasel.status()"
   ]
  },
  {
   "cell_type": "code",
   "execution_count": 85,
   "metadata": {},
   "outputs": [
    {
     "name": "stdout",
     "output_type": "stream",
     "text": [
      "Tom is young!\n"
     ]
    }
   ],
   "source": [
    "Tom.status()"
   ]
  },
  {
   "cell_type": "code",
   "execution_count": 86,
   "metadata": {},
   "outputs": [
    {
     "name": "stdout",
     "output_type": "stream",
     "text": [
      "Cherry is young!\n"
     ]
    }
   ],
   "source": [
    "Cherry.status()"
   ]
  },
  {
   "cell_type": "code",
   "execution_count": 87,
   "metadata": {},
   "outputs": [
    {
     "name": "stdout",
     "output_type": "stream",
     "text": [
      "Hasel has no spots!\n",
      "Cherry has spots!\n",
      "Tom has spots!\n"
     ]
    }
   ],
   "source": [
    "Hasel.spots()\n",
    "Cherry.spots()\n",
    "Tom.spots()"
   ]
  },
  {
   "cell_type": "code",
   "execution_count": null,
   "metadata": {},
   "outputs": [],
   "source": []
  }
 ],
 "metadata": {
  "kernelspec": {
   "display_name": "Python 3",
   "language": "python",
   "name": "python3"
  },
  "language_info": {
   "codemirror_mode": {
    "name": "ipython",
    "version": 3
   },
   "file_extension": ".py",
   "mimetype": "text/x-python",
   "name": "python",
   "nbconvert_exporter": "python",
   "pygments_lexer": "ipython3",
   "version": "3.8.5"
  }
 },
 "nbformat": 4,
 "nbformat_minor": 4
}
